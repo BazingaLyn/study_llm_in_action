{
 "cells": [
  {
   "cell_type": "code",
   "execution_count": 7,
   "metadata": {},
   "outputs": [
    {
     "name": "stdout",
     "output_type": "stream",
     "text": [
      "正在读取 JSONL 文件...\n"
     ]
    }
   ],
   "source": [
    "import json\n",
    "import os\n",
    "import pandas as pd\n",
    "import matplotlib.pyplot as plt\n",
    "from collections import Counter\n",
    "\n",
    "# 设置文件路径\n",
    "file_path = os.path.join('../dataset', 'pretrain_hq.jsonl')\n",
    "\n",
    "# 检查文件是否存在\n",
    "if not os.path.exists(file_path):\n",
    "    print(f\"错误：文件 {file_path} 不存在\")\n",
    "    exit(1)\n",
    "\n",
    "# 读取 JSONL 文件到 Pandas DataFrame\n",
    "print(\"正在读取 JSONL 文件...\")\n",
    "data_list = []\n",
    "with open(file_path, 'r', encoding='utf-8') as f:\n",
    "    for line in f:\n",
    "        try:\n",
    "            data_list.append(json.loads(line.strip()))\n",
    "        except json.JSONDecodeError:\n",
    "            print(f\"警告：跳过无效的 JSON 行\")\n",
    "\n",
    "# 转换为 DataFrame\n",
    "df = pd.DataFrame(data_list)\n"
   ]
  },
  {
   "cell_type": "code",
   "execution_count": 13,
   "metadata": {},
   "outputs": [
    {
     "name": "stdout",
     "output_type": "stream",
     "text": [
      "\n",
      "字符串列的长度统计 (简洁版):\n"
     ]
    },
    {
     "data": {
      "text/html": [
       "<div>\n",
       "<style scoped>\n",
       "    .dataframe tbody tr th:only-of-type {\n",
       "        vertical-align: middle;\n",
       "    }\n",
       "\n",
       "    .dataframe tbody tr th {\n",
       "        vertical-align: top;\n",
       "    }\n",
       "\n",
       "    .dataframe thead th {\n",
       "        text-align: right;\n",
       "    }\n",
       "</style>\n",
       "<table border=\"1\" class=\"dataframe\">\n",
       "  <thead>\n",
       "    <tr style=\"text-align: right;\">\n",
       "      <th></th>\n",
       "      <th>count</th>\n",
       "      <th>mean</th>\n",
       "      <th>std</th>\n",
       "      <th>min</th>\n",
       "      <th>25%</th>\n",
       "      <th>50%</th>\n",
       "      <th>75%</th>\n",
       "      <th>max</th>\n",
       "    </tr>\n",
       "  </thead>\n",
       "  <tbody>\n",
       "    <tr>\n",
       "      <th>text</th>\n",
       "      <td>1413103.0</td>\n",
       "      <td>399.403903</td>\n",
       "      <td>79.880136</td>\n",
       "      <td>257.0</td>\n",
       "      <td>334.0</td>\n",
       "      <td>416.0</td>\n",
       "      <td>467.0</td>\n",
       "      <td>519.0</td>\n",
       "    </tr>\n",
       "  </tbody>\n",
       "</table>\n",
       "</div>"
      ],
      "text/plain": [
       "          count        mean        std    min    25%    50%    75%    max\n",
       "text  1413103.0  399.403903  79.880136  257.0  334.0  416.0  467.0  519.0"
      ]
     },
     "metadata": {},
     "output_type": "display_data"
    }
   ],
   "source": [
    "# 字符串列的长度统计 - 超简洁版本\n",
    "string_cols = df.select_dtypes(include=['object']).columns\n",
    "if not string_cols.empty:\n",
    "    print(\"\\n字符串列的长度统计 (简洁版):\")\n",
    "    \n",
    "    # 创建一个函数来计算字符串长度\n",
    "    def get_str_stats(series):\n",
    "        if series.apply(lambda x: isinstance(x, str)).all():\n",
    "            return series.str.len().describe()\n",
    "        return None\n",
    "    \n",
    "    # 对每个字符串列应用统计函数\n",
    "    stats = {col: get_str_stats(df[col]) for col in string_cols}\n",
    "    \n",
    "    # 过滤掉非字符串列\n",
    "    stats = {k: v for k, v in stats.items() if v is not None}\n",
    "    \n",
    "    # 将结果转换为DataFrame并显示\n",
    "    if stats:\n",
    "        stats_df = pd.DataFrame(stats).T\n",
    "        display(stats_df)"
   ]
  },
  {
   "cell_type": "code",
   "execution_count": 5,
   "metadata": {},
   "outputs": [
    {
     "name": "stdout",
     "output_type": "stream",
     "text": [
      "\n",
      "随机抽取的5条数据:\n"
     ]
    },
    {
     "data": {
      "text/html": [
       "<div>\n",
       "<style scoped>\n",
       "    .dataframe tbody tr th:only-of-type {\n",
       "        vertical-align: middle;\n",
       "    }\n",
       "\n",
       "    .dataframe tbody tr th {\n",
       "        vertical-align: top;\n",
       "    }\n",
       "\n",
       "    .dataframe thead th {\n",
       "        text-align: right;\n",
       "    }\n",
       "</style>\n",
       "<table border=\"1\" class=\"dataframe\">\n",
       "  <thead>\n",
       "    <tr style=\"text-align: right;\">\n",
       "      <th></th>\n",
       "      <th>text</th>\n",
       "    </tr>\n",
       "  </thead>\n",
       "  <tbody>\n",
       "    <tr>\n",
       "      <th>1328193</th>\n",
       "      <td>&lt;s&gt;\\n角色介绍：\\n角色一：小明，一个年轻的程序员，正在开发一个新的应用程序。\\n角色二...</td>\n",
       "    </tr>\n",
       "    <tr>\n",
       "      <th>998299</th>\n",
       "      <td>&lt;s&gt;以下是一道小学数学题：小明手里有15个糖果，他要分给他的4位小伙伴，每个小伙伴分到的糖...</td>\n",
       "    </tr>\n",
       "    <tr>\n",
       "      <th>1282516</th>\n",
       "      <td>&lt;s&gt;患者于2008年行原发性肝癌切除术,2012-11月于我科行肝动脉化疗栓塞术,术后恢复...</td>\n",
       "    </tr>\n",
       "    <tr>\n",
       "      <th>1359671</th>\n",
       "      <td>&lt;s&gt;基于以下角色信息完成一段对话\\nJack：一名医生，拥有十年的临床经验。他是一个务实的...</td>\n",
       "    </tr>\n",
       "    <tr>\n",
       "      <th>1185593</th>\n",
       "      <td>&lt;s&gt;在给定的文本中寻找特定关键词，并给出其上下文。\\n请找出以下句子中“大富翁”这个词的上...</td>\n",
       "    </tr>\n",
       "  </tbody>\n",
       "</table>\n",
       "</div>"
      ],
      "text/plain": [
       "                                                      text\n",
       "1328193  <s>\\n角色介绍：\\n角色一：小明，一个年轻的程序员，正在开发一个新的应用程序。\\n角色二...\n",
       "998299   <s>以下是一道小学数学题：小明手里有15个糖果，他要分给他的4位小伙伴，每个小伙伴分到的糖...\n",
       "1282516  <s>患者于2008年行原发性肝癌切除术,2012-11月于我科行肝动脉化疗栓塞术,术后恢复...\n",
       "1359671  <s>基于以下角色信息完成一段对话\\nJack：一名医生，拥有十年的临床经验。他是一个务实的...\n",
       "1185593  <s>在给定的文本中寻找特定关键词，并给出其上下文。\\n请找出以下句子中“大富翁”这个词的上..."
      ]
     },
     "metadata": {},
     "output_type": "display_data"
    }
   ],
   "source": [
    "import random\n",
    "print(\"\\n随机抽取的5条数据:\")\n",
    "random_indices = random.sample(range(len(df)), min(5, len(df)))\n",
    "random_samples = df.iloc[random_indices]\n",
    "\n",
    "# 在Jupyter中直接显示DataFrame表格\n",
    "display(random_samples)"
   ]
  },
  {
   "cell_type": "code",
   "execution_count": null,
   "metadata": {},
   "outputs": [
    {
     "name": "stdout",
     "output_type": "stream",
     "text": [
      "\n",
      "测试单个样本:\n",
      "\n",
      "样本 #0:\n",
      "原始文本 (前100个字符): <s>鉴别一组中文文章的风格和特点，例如官方、口语、文言等。需要提供样例文章才能准确鉴别不同的风格和特点。</s> <s>好的，现在帮我查一下今天的天气怎么样?今天的天气依据地区而异。请问你需要我帮你...\n",
      "处理后的输入 (前100个字符): <s>鉴别一组中文文章的风格和特点，例如官方、口语、文言等。需要提供样例文章才能准确鉴别不同的风格和特点。</s> <s>好的，现在帮我查一下今天的天气怎么样?今天的天气依据地区而异。请问你需要我帮你...\n",
      "处理后的目标 (前100个字符): s>鉴别一组中文文章的风格和特点，例如官方、口语、文言等。需要提供样例文章才能准确鉴别不同的风格和特点。</s> <s>好的，现在帮我查一下今天的天气怎么样?今天的天气依据地区而异。请问你需要我帮你查...\n",
      "输入形状: torch.Size([511]), 目标形状: torch.Size([511]), 损失掩码形状: torch.Size([511])\n",
      "有效标记比例: 73.39%\n",
      "\n",
      "样本 #1:\n",
      "原始文本 (前100个字符): <s>根据输入的内容，编写一个类别标签。\n",
      "这是一篇介绍如何阅读心电图的文章类别标签: 医学/心电图阅读指南</s> <s>帮我搜索一下最近的天气情况。当然，我可以帮您搜索最新的天气情况。请问您需要查询...\n",
      "处理后的输入 (前100个字符): <s>根据输入的内容，编写一个类别标签。\n",
      "这是一篇介绍如何阅读心电图的文章类别标签: 医学/心电图阅读指南</s> <s>帮我搜索一下最近的天气情况。当然，我可以帮您搜索最新的天气情况。请问您需要查询...\n",
      "处理后的目标 (前100个字符): s>根据输入的内容，编写一个类别标签。\n",
      "这是一篇介绍如何阅读心电图的文章类别标签: 医学/心电图阅读指南</s> <s>帮我搜索一下最近的天气情况。当然，我可以帮您搜索最新的天气情况。请问您需要查询哪...\n",
      "输入形状: torch.Size([511]), 目标形状: torch.Size([511]), 损失掩码形状: torch.Size([511])\n",
      "有效标记比例: 68.30%\n",
      "\n",
      "样本 #2:\n",
      "原始文本 (前100个字符): <s>客户要求看一份报告，但他没有说明他需要哪份报告。他是指哪份报告？这个问题没有指代消解，需进一步询问。</s> <s>鉴别并描述一处房地产广告中的行骗手段。作为语言模型AI，我不支持或鼓励行骗行为...\n",
      "处理后的输入 (前100个字符): <s>客户要求看一份报告，但他没有说明他需要哪份报告。他是指哪份报告？这个问题没有指代消解，需进一步询问。</s> <s>鉴别并描述一处房地产广告中的行骗手段。作为语言模型AI，我不支持或鼓励行骗行为...\n",
      "处理后的目标 (前100个字符): s>客户要求看一份报告，但他没有说明他需要哪份报告。他是指哪份报告？这个问题没有指代消解，需进一步询问。</s> <s>鉴别并描述一处房地产广告中的行骗手段。作为语言模型AI，我不支持或鼓励行骗行为，...\n",
      "输入形状: torch.Size([511]), 目标形状: torch.Size([511]), 损失掩码形状: torch.Size([511])\n",
      "有效标记比例: 65.75%\n"
     ]
    },
    {
     "name": "stderr",
     "output_type": "stream",
     "text": [
      "e:\\workspace\\study_llm_in_action\\study_llm_in_action\\dataset\\lm_dataset.py:48: UserWarning: To copy construct from a tensor, it is recommended to use sourceTensor.detach().clone() or sourceTensor.detach().clone().requires_grad_(True), rather than torch.tensor(sourceTensor).\n",
      "  X = torch.tensor(input_ids[:-1], dtype=torch.long)\n",
      "e:\\workspace\\study_llm_in_action\\study_llm_in_action\\dataset\\lm_dataset.py:49: UserWarning: To copy construct from a tensor, it is recommended to use sourceTensor.detach().clone() or sourceTensor.detach().clone().requires_grad_(True), rather than torch.tensor(sourceTensor).\n",
      "  Y = torch.tensor(input_ids[1:], dtype=torch.long)\n",
      "e:\\workspace\\study_llm_in_action\\study_llm_in_action\\dataset\\lm_dataset.py:50: UserWarning: To copy construct from a tensor, it is recommended to use sourceTensor.detach().clone() or sourceTensor.detach().clone().requires_grad_(True), rather than torch.tensor(sourceTensor).\n",
      "  loss_mask = torch.tensor(loss_mask[1:], dtype=torch.long)\n"
     ]
    }
   ],
   "source": [
    "from transformers import AutoTokenizer\n",
    "import sys\n",
    "import os\n",
    "sys.path.append('..')\n",
    "from dataset.lm_dataset import PretrainDataset\n",
    "\n",
    "tokenizer = AutoTokenizer.from_pretrained('../model/')\n",
    "dataset = PretrainDataset('../dataset/pretrain_hq.jsonl', tokenizer, 512)\n",
    "\n",
    "# 测试几个单独的样本\n",
    "sample_indices = [0, 1, 2]  # 测试前3个样本\n",
    "    \n",
    "print(\"\\n测试单个样本:\")\n",
    "for idx in sample_indices:\n",
    "    print(f\"\\n样本 #{idx}:\")\n",
    "    X, Y, loss_mask = dataset[idx]\n",
    "    \n",
    "    # 显示原始样本\n",
    "    raw_sample = dataset.samples[idx]\n",
    "    print(f\"原始文本 (前100个字符): {raw_sample['text'][:100]}...\")\n",
    "    \n",
    "    # 解码处理后的输入和目标\n",
    "    input_text = tokenizer.decode(X)\n",
    "    target_text = tokenizer.decode(Y)\n",
    "    \n",
    "    print(f\"处理后的输入 (前100个字符): {input_text[:100]}...\")\n",
    "    print(f\"处理后的目标 (前100个字符): {target_text[:100]}...\")\n",
    "    print(f\"输入形状: {X.shape}, 目标形状: {Y.shape}, 损失掩码形状: {loss_mask.shape}\")\n",
    "   "
   ]
  }
 ],
 "metadata": {
  "kernelspec": {
   "display_name": "Python 3",
   "language": "python",
   "name": "python3"
  },
  "language_info": {
   "codemirror_mode": {
    "name": "ipython",
    "version": 3
   },
   "file_extension": ".py",
   "mimetype": "text/x-python",
   "name": "python",
   "nbconvert_exporter": "python",
   "pygments_lexer": "ipython3",
   "version": "3.10.10"
  }
 },
 "nbformat": 4,
 "nbformat_minor": 2
}
