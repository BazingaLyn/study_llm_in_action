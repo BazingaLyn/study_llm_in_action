{
 "cells": [
  {
   "cell_type": "code",
   "execution_count": 1,
   "id": "25a8b5bb-7ffc-4a5a-b79e-9f48c75e7f8d",
   "metadata": {},
   "outputs": [
    {
     "data": {
      "text/plain": [
       "'高考加油gaokao go on'"
      ]
     },
     "execution_count": 1,
     "metadata": {},
     "output_type": "execute_result"
    }
   ],
   "source": [
    "\"高考加油gaokao go on\""
   ]
  },
  {
   "cell_type": "code",
   "execution_count": 2,
   "id": "e095546b-8f95-4b7d-8287-78a9b94e13e4",
   "metadata": {},
   "outputs": [
    {
     "data": {
      "text/plain": [
       "[39640,\n",
       " 32771,\n",
       " 21152,\n",
       " 27833,\n",
       " 103,\n",
       " 97,\n",
       " 111,\n",
       " 107,\n",
       " 97,\n",
       " 111,\n",
       " 32,\n",
       " 103,\n",
       " 111,\n",
       " 32,\n",
       " 111,\n",
       " 110]"
      ]
     },
     "execution_count": 2,
     "metadata": {},
     "output_type": "execute_result"
    }
   ],
   "source": [
    "[ord(x) for x in \"高考加油gaokao go on\"]"
   ]
  },
  {
   "cell_type": "code",
   "execution_count": 3,
   "id": "ec72cdc6-7057-4838-8bd2-7cc0ecb58d3e",
   "metadata": {},
   "outputs": [
    {
     "data": {
      "text/plain": [
       "[233,\n",
       " 171,\n",
       " 152,\n",
       " 232,\n",
       " 128,\n",
       " 131,\n",
       " 229,\n",
       " 138,\n",
       " 160,\n",
       " 230,\n",
       " 178,\n",
       " 185,\n",
       " 103,\n",
       " 97,\n",
       " 111,\n",
       " 107,\n",
       " 97,\n",
       " 111,\n",
       " 32,\n",
       " 103,\n",
       " 111,\n",
       " 32,\n",
       " 111,\n",
       " 110]"
      ]
     },
     "execution_count": 3,
     "metadata": {},
     "output_type": "execute_result"
    }
   ],
   "source": [
    " list(\"高考加油gaokao go on\".encode(\"utf-8\"))"
   ]
  }
 ],
 "metadata": {
  "kernelspec": {
   "display_name": "Python 3 (ipykernel)",
   "language": "python",
   "name": "python3"
  },
  "language_info": {
   "codemirror_mode": {
    "name": "ipython",
    "version": 3
   },
   "file_extension": ".py",
   "mimetype": "text/x-python",
   "name": "python",
   "nbconvert_exporter": "python",
   "pygments_lexer": "ipython3",
   "version": "3.10.10"
  }
 },
 "nbformat": 4,
 "nbformat_minor": 5
}
